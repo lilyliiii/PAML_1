{
  "nbformat": 4,
  "nbformat_minor": 0,
  "metadata": {
    "colab": {
      "provenance": [],
      "authorship_tag": "ABX9TyOAkPC1lDaZ3Ok4M0KnbKzp",
      "include_colab_link": true
    },
    "kernelspec": {
      "name": "python3",
      "display_name": "Python 3"
    },
    "language_info": {
      "name": "python"
    }
  },
  "cells": [
    {
      "cell_type": "markdown",
      "metadata": {
        "id": "view-in-github",
        "colab_type": "text"
      },
      "source": [
        "<a href=\"https://colab.research.google.com/github/lilyliiii/PAML_1/blob/main/test.ipynb\" target=\"_parent\"><img src=\"https://colab.research.google.com/assets/colab-badge.svg\" alt=\"Open In Colab\"/></a>"
      ]
    },
    {
      "cell_type": "markdown",
      "source": [
        "##Data Structure"
      ],
      "metadata": {
        "id": "WxZcFj8bItVR"
      }
    },
    {
      "cell_type": "markdown",
      "source": [
        "List/Arrays"
      ],
      "metadata": {
        "id": "9rrdgW-dIxJf"
      }
    },
    {
      "cell_type": "code",
      "source": [
        "l=[3,4,5,6]\n",
        "print(l)"
      ],
      "metadata": {
        "colab": {
          "base_uri": "https://localhost:8080/"
        },
        "id": "q8U0gFX5I3It",
        "outputId": "54d3fa83-acc7-4af8-b377-75bbae2ccbc5"
      },
      "execution_count": 1,
      "outputs": [
        {
          "output_type": "stream",
          "name": "stdout",
          "text": [
            "[3, 4, 5, 6]\n"
          ]
        }
      ]
    }
  ]
}